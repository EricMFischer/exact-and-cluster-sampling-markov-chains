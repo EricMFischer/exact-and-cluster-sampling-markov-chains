{
 "cells": [
  {
   "cell_type": "code",
   "execution_count": 3,
   "metadata": {},
   "outputs": [],
   "source": [
    "import numpy as np\n",
    "import matplotlib.pyplot as plt\n",
    "\n",
    "\n",
    "betas = [0.5, 0.6, 0.7, 0.8, 0.83, 0.84, 0.85, 0.9]\n",
    "# betas = [1]\n",
    "size = 64\n",
    "\n",
    "\n",
    "def dist(x, row, col, label, beta):\n",
    "    energy = np.zeros(4)\n",
    "    if row + 1 <= 63:\n",
    "        energy[0] = int(x[row + 1, col] == label)\n",
    "    if row - 1 >= 0:\n",
    "        energy[1] = int(x[row - 1, col] == label)\n",
    "    if col + 1 <= 63:\n",
    "        energy[2] = int(x[row, col + 1] == label)\n",
    "    if col - 1 >= 0:\n",
    "        energy[3] = int(x[row, col - 1] == label)\n",
    "    energy = np.sum(energy)\n",
    "    return np.exp(beta * energy)\n"
   ]
  },
  {
   "cell_type": "code",
   "execution_count": null,
   "metadata": {},
   "outputs": [
    {
     "name": "stdout",
     "output_type": "stream",
     "text": [
      "beta: 0.5, n_sweeps: 19\n",
      "beta: 0.6, n_sweeps: 55\n",
      "beta: 0.7, n_sweeps: 84\n"
     ]
    }
   ],
   "source": [
    "for beta in betas:\n",
    "    n_sweeps = 0\n",
    "    x_1 = np.ones((size, size), dtype=np.int16)\n",
    "    x_2 = np.zeros((size, size), dtype=np.int16)\n",
    "    sum_1_arr = np.sum(x_1)\n",
    "    sum_2_arr = np.sum(x_2)\n",
    "\n",
    "    while True:\n",
    "        row_i = np.random.permutation(size)\n",
    "        col_i = np.random.permutation(size)\n",
    "        for row in row_i:\n",
    "            for col in col_i:\n",
    "                denom = dist(x_1, row, col, 1, beta) + dist(x_1, row, col, 0, beta)\n",
    "                prob_x1 = dist(x_1, row, col, 1, beta) / denom\n",
    "                denom_2 = dist(x_2, row, col, 1, beta) + dist(x_2, row, col, 0, beta)\n",
    "                prob_x2 = dist(x_2, row, col, 1, beta) / denom_2\n",
    "\n",
    "                rand = np.random.uniform()\n",
    "                x_1[row, col] = 1 if prob_x1 > rand else 0\n",
    "                x_2[row, col] = 1 if prob_x2 > rand else 0\n",
    "\n",
    "        sum_1 = np.sum(x_1)\n",
    "        sum_2 = np.sum(x_2)\n",
    "        sum_1_arr = np.append(sum_1_arr, sum_1)\n",
    "        sum_2_arr = np.append(sum_2_arr, sum_2)\n",
    "        n_sweeps += 1\n",
    "        if sum_1 == sum_2:\n",
    "            break\n",
    "\n",
    "    print('beta: %s, n_sweeps: %d' % (beta, n_sweeps))\n",
    "\n",
    "    fig = plt.figure()\n",
    "    plt.plot(range(n_sweeps + 1), sum_1_arr, color='green', linewidth=0.9)\n",
    "    plt.plot(range(n_sweeps + 1), sum_2_arr, color='darkblue', linewidth=0.9)\n",
    "    plt.xlabel('Sweeps')\n",
    "    plt.ylabel('Sum of Image')\n",
    "    plt.grid()\n",
    "    plt.title('Total Magnetization of Ising Model with beta = %s' % beta)\n",
    "    plt.legend(['White Chain (Upper Bound)', 'Black Chain (Lower Bound)'], loc='upper right')\n",
    "    fig.savefig('./exact-sampling-imgs/chains-beta=' + str(beta) + '.png')\n",
    "\n",
    "    fig = plt.figure()\n",
    "    plt.imshow(x_1, cmap='gray')\n",
    "    plt.title('Ising Sample at Coalesence with beta = %s' % beta)\n",
    "    fig.savefig('./exact-sampling-imgs/sample-beta=' + str(beta) + '.png')\n",
    "\n",
    "# do afterwards\n",
    "# fig = plt.figure()\n",
    "# n_sweeps = np.array([25, 53, 69, 458, 372, 887, 883, 15330])\n",
    "# plt.plot(betas[0:8], n_sweeps)\n",
    "# plt.xlabel('Beta')\n",
    "# plt.ylabel('Sweeps')\n",
    "# plt.grid()\n",
    "# plt.title('Coalesence Time Tau for Beta Values')\n",
    "# fig.savefig('./exact-sampling-imgs/tau-over-beta.png')\n"
   ]
  }
 ],
 "metadata": {
  "kernelspec": {
   "display_name": "Python 3",
   "language": "python",
   "name": "python3"
  },
  "language_info": {
   "codemirror_mode": {
    "name": "ipython",
    "version": 3
   },
   "file_extension": ".py",
   "mimetype": "text/x-python",
   "name": "python",
   "nbconvert_exporter": "python",
   "pygments_lexer": "ipython3",
   "version": "3.7.2"
  }
 },
 "nbformat": 4,
 "nbformat_minor": 2
}
